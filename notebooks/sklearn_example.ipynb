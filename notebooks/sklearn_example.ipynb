{
 "cells": [
  {
   "cell_type": "code",
   "execution_count": 1,
   "id": "7db38d8b-4722-4b58-aed2-44c1080f3c82",
   "metadata": {
    "tags": []
   },
   "outputs": [],
   "source": [
    "from pathlib import Path\n",
    "import rasterio\n",
    "from rasterio.plot import show\n",
    "import matplotlib.pyplot as plt\n",
    "import numpy as np\n",
    "import pandas as pd\n",
    "import geopandas as gpd\n",
    "from sklearn import linear_model\n",
    "\n",
    "import sys\n",
    "sys.path.insert(0, '..')\n",
    "\n",
    "from scripts.raster_processing.read import read\n",
    "from scripts.raster_processing.clip import clip\n",
    "from scripts.raster_processing.raster_to_dataframe import raster_to_dataframe"
   ]
  },
  {
   "cell_type": "code",
   "execution_count": 2,
   "id": "32e9c122-a4f1-4fad-8adc-e16a5f9f174a",
   "metadata": {
    "tags": []
   },
   "outputs": [],
   "source": [
    "YEARS = [2000, 2005, 2010, 2015, 2020]\n",
    "PREDICTION_YEARS = [2021, 2022, 2023, 2024, 2025, 2026, 2027, 2028, 2029, 2030]\n",
    "AGE_GROUPS = [0, 1, 5, 10, 15, 20, 25, 30, 35, 40, 45, 50, 55, 60, 65, 70, 75, 80]"
   ]
  },
  {
   "cell_type": "code",
   "execution_count": 3,
   "id": "5fa4899b-dab8-45b2-b150-9bfaba202745",
   "metadata": {
    "tags": []
   },
   "outputs": [
    {
     "name": "stdout",
     "output_type": "stream",
     "text": [
      "['f_20_2000.tif', 'f_20_2005.tif', 'f_20_2010.tif', 'f_20_2015.tif', 'f_20_2020.tif']\n"
     ]
    }
   ],
   "source": [
    "pop_group = \"f_20\"\n",
    "raster_names = [f\"{pop_group}_{year}.tif\" for year in YEARS]\n",
    "raster_directory = Path(\"../data/output/population_grids_togo/\")\n",
    "print(raster_names)"
   ]
  },
  {
   "cell_type": "code",
   "execution_count": 4,
   "id": "05c6e002-7e4a-4202-939d-bcf54b148134",
   "metadata": {
    "tags": []
   },
   "outputs": [
    {
     "data": {
      "text/html": [
       "<div>\n",
       "<style scoped>\n",
       "    .dataframe tbody tr th:only-of-type {\n",
       "        vertical-align: middle;\n",
       "    }\n",
       "\n",
       "    .dataframe tbody tr th {\n",
       "        vertical-align: top;\n",
       "    }\n",
       "\n",
       "    .dataframe thead th {\n",
       "        text-align: right;\n",
       "    }\n",
       "</style>\n",
       "<table border=\"1\" class=\"dataframe\">\n",
       "  <thead>\n",
       "    <tr style=\"text-align: right;\">\n",
       "      <th></th>\n",
       "      <th>db_c4f0x_h</th>\n",
       "      <th>iso3cd</th>\n",
       "      <th>cty_nm</th>\n",
       "      <th>adm1nm</th>\n",
       "      <th>adm2nm</th>\n",
       "      <th>adm1cd</th>\n",
       "      <th>adm2cd</th>\n",
       "      <th>globalid</th>\n",
       "      <th>st_area_sh</th>\n",
       "      <th>st_length_</th>\n",
       "      <th>geometry</th>\n",
       "    </tr>\n",
       "  </thead>\n",
       "  <tbody>\n",
       "    <tr>\n",
       "      <th>0</th>\n",
       "      <td>13</td>\n",
       "      <td>TGO</td>\n",
       "      <td>Togo</td>\n",
       "      <td>Maritime</td>\n",
       "      <td>Agoè-Nyivé</td>\n",
       "      <td>TGO003</td>\n",
       "      <td>TGO003011</td>\n",
       "      <td>{DC09CA19-1098-429C-984F-A11BE48FA1F6}</td>\n",
       "      <td>0.015793</td>\n",
       "      <td>0.596787</td>\n",
       "      <td>POLYGON ((1.23326 6.35430, 1.24893 6.35346, 1....</td>\n",
       "    </tr>\n",
       "    <tr>\n",
       "      <th>1</th>\n",
       "      <td>15</td>\n",
       "      <td>TGO</td>\n",
       "      <td>Togo</td>\n",
       "      <td>Maritime</td>\n",
       "      <td>Bas-Mono</td>\n",
       "      <td>TGO003</td>\n",
       "      <td>TGO003007</td>\n",
       "      <td>{CEF00E05-80F7-4976-9C56-0D4402A6837F}</td>\n",
       "      <td>0.033849</td>\n",
       "      <td>1.027692</td>\n",
       "      <td>POLYGON ((1.58826 6.58743, 1.60509 6.58480, 1....</td>\n",
       "    </tr>\n",
       "    <tr>\n",
       "      <th>2</th>\n",
       "      <td>17</td>\n",
       "      <td>TGO</td>\n",
       "      <td>Togo</td>\n",
       "      <td>Maritime</td>\n",
       "      <td>Lacs</td>\n",
       "      <td>TGO003</td>\n",
       "      <td>TGO003008</td>\n",
       "      <td>{34314F1A-5F69-4382-8CCC-CCA27D1E2A31}</td>\n",
       "      <td>0.031421</td>\n",
       "      <td>1.273985</td>\n",
       "      <td>POLYGON ((1.71448 6.38975, 1.73036 6.38860, 1....</td>\n",
       "    </tr>\n",
       "    <tr>\n",
       "      <th>3</th>\n",
       "      <td>18</td>\n",
       "      <td>TGO</td>\n",
       "      <td>Togo</td>\n",
       "      <td>Maritime</td>\n",
       "      <td>Vo</td>\n",
       "      <td>TGO003</td>\n",
       "      <td>TGO003005</td>\n",
       "      <td>{B0028F4B-3DE3-4E58-9613-CE0C44F0ADE6}</td>\n",
       "      <td>0.061034</td>\n",
       "      <td>1.029600</td>\n",
       "      <td>POLYGON ((1.52859 6.56042, 1.53629 6.54506, 1....</td>\n",
       "    </tr>\n",
       "    <tr>\n",
       "      <th>4</th>\n",
       "      <td>35</td>\n",
       "      <td>TGO</td>\n",
       "      <td>Togo</td>\n",
       "      <td>Savanes</td>\n",
       "      <td>Kpendjal-Ouest</td>\n",
       "      <td>TGO005</td>\n",
       "      <td>TGO005008</td>\n",
       "      <td>{DD1CC43D-816B-41CD-A06C-7EC827684ADD}</td>\n",
       "      <td>0.053690</td>\n",
       "      <td>1.301053</td>\n",
       "      <td>POLYGON ((0.49782 11.01071, 0.50510 11.00923, ...</td>\n",
       "    </tr>\n",
       "  </tbody>\n",
       "</table>\n",
       "</div>"
      ],
      "text/plain": [
       "   db_c4f0x_h iso3cd cty_nm    adm1nm          adm2nm  adm1cd     adm2cd  \\\n",
       "0          13    TGO   Togo  Maritime      Agoè-Nyivé  TGO003  TGO003011   \n",
       "1          15    TGO   Togo  Maritime        Bas-Mono  TGO003  TGO003007   \n",
       "2          17    TGO   Togo  Maritime            Lacs  TGO003  TGO003008   \n",
       "3          18    TGO   Togo  Maritime              Vo  TGO003  TGO003005   \n",
       "4          35    TGO   Togo   Savanes  Kpendjal-Ouest  TGO005  TGO005008   \n",
       "\n",
       "                                 globalid  st_area_sh  st_length_  \\\n",
       "0  {DC09CA19-1098-429C-984F-A11BE48FA1F6}    0.015793    0.596787   \n",
       "1  {CEF00E05-80F7-4976-9C56-0D4402A6837F}    0.033849    1.027692   \n",
       "2  {34314F1A-5F69-4382-8CCC-CCA27D1E2A31}    0.031421    1.273985   \n",
       "3  {B0028F4B-3DE3-4E58-9613-CE0C44F0ADE6}    0.061034    1.029600   \n",
       "4  {DD1CC43D-816B-41CD-A06C-7EC827684ADD}    0.053690    1.301053   \n",
       "\n",
       "                                            geometry  \n",
       "0  POLYGON ((1.23326 6.35430, 1.24893 6.35346, 1....  \n",
       "1  POLYGON ((1.58826 6.58743, 1.60509 6.58480, 1....  \n",
       "2  POLYGON ((1.71448 6.38975, 1.73036 6.38860, 1....  \n",
       "3  POLYGON ((1.52859 6.56042, 1.53629 6.54506, 1....  \n",
       "4  POLYGON ((0.49782 11.01071, 0.50510 11.00923, ...  "
      ]
     },
     "execution_count": 4,
     "metadata": {},
     "output_type": "execute_result"
    }
   ],
   "source": [
    "togo_borders = gpd.read_file(\"../data/input/borders/togo/salb_borders.zip\")\n",
    "togo_borders.head()"
   ]
  },
  {
   "cell_type": "code",
   "execution_count": 5,
   "id": "b11da331-da53-41d1-8d14-dd4f49806571",
   "metadata": {
    "tags": []
   },
   "outputs": [],
   "source": [
    "doufelgou = togo_borders.loc[togo_borders[\"adm2nm\"] == \"Doufelgou\"]"
   ]
  },
  {
   "cell_type": "code",
   "execution_count": 6,
   "id": "3cc54391-6256-450a-a9f1-c7ad4e9fb17d",
   "metadata": {
    "tags": []
   },
   "outputs": [],
   "source": [
    "import numpy as np\n",
    "import pandas as pd\n",
    "import rasterio\n",
    "\n",
    "\n",
    "def image_to_dataframe(image, meta, column_name: str):\n",
    "    xcoords, ycoords = _get_coordinates(meta)\n",
    "    data_array = image[0]\n",
    "\n",
    "    array_with_coords = np.concatenate((xcoords, ycoords, data_array))\n",
    "    reshaped = array_with_coords.reshape([3, -1]).T\n",
    "\n",
    "    dataframe = pd.DataFrame(reshaped, columns=[\"x\", \"y\", column_name])\n",
    "    return dataframe\n",
    "\n",
    "\n",
    "def _get_coordinates(meta):\n",
    "    height = meta[\"height\"]\n",
    "    width = meta[\"width\"]\n",
    "\n",
    "    cols, rows = np.meshgrid(np.arange(width), np.arange(height))\n",
    "    xs, ys = rasterio.transform.xy(meta[\"transform\"], rows, cols)\n",
    "    xcoords = np.array(xs)\n",
    "    ycoords = np.array(ys)\n",
    "    return xcoords, ycoords\n"
   ]
  },
  {
   "cell_type": "code",
   "execution_count": 7,
   "id": "b0d3c3c9-6818-4211-b58f-6f6f79289eb1",
   "metadata": {
    "tags": []
   },
   "outputs": [
    {
     "name": "stdout",
     "output_type": "stream",
     "text": [
      "| 0.00, 0.00,-0.14|\n",
      "| 0.00,-0.00, 11.14|\n",
      "| 0.00, 0.00, 1.00|\n",
      "| 0.00, 0.00,-0.14|\n",
      "| 0.00,-0.00, 11.14|\n",
      "| 0.00, 0.00, 1.00|\n",
      "| 0.00, 0.00,-0.14|\n",
      "| 0.00,-0.00, 11.14|\n",
      "| 0.00, 0.00, 1.00|\n",
      "| 0.00, 0.00,-0.14|\n",
      "| 0.00,-0.00, 11.14|\n",
      "| 0.00, 0.00, 1.00|\n",
      "| 0.00, 0.00,-0.14|\n",
      "| 0.00,-0.00, 11.14|\n",
      "| 0.00, 0.00, 1.00|\n"
     ]
    }
   ],
   "source": [
    "dataframes = []\n",
    "for name in raster_names:\n",
    "    with read(Path(raster_directory / name)) as raster:\n",
    "        print(raster.transform)\n",
    "        image, meta = clip(raster, doufelgou.geometry)\n",
    "        dataframe = image_to_dataframe(image, meta, column_name=name[:-4])\n",
    "    dataframes.append(dataframe)"
   ]
  },
  {
   "cell_type": "code",
   "execution_count": 8,
   "id": "6a80327c-033d-4ecf-b56e-23495722b768",
   "metadata": {
    "tags": []
   },
   "outputs": [],
   "source": [
    "df = pd.concat(dataframes, axis=1)"
   ]
  },
  {
   "cell_type": "code",
   "execution_count": 9,
   "id": "5a18b776-9ecd-4b5b-b973-9fe5b0dca901",
   "metadata": {
    "tags": []
   },
   "outputs": [],
   "source": [
    "df = df.loc[:,~df.columns.duplicated()]  # no duplicate columns"
   ]
  },
  {
   "cell_type": "code",
   "execution_count": 10,
   "id": "537237b9-6d2a-4577-b0d3-5c47f4036c51",
   "metadata": {
    "tags": []
   },
   "outputs": [
    {
     "data": {
      "text/html": [
       "<div>\n",
       "<style scoped>\n",
       "    .dataframe tbody tr th:only-of-type {\n",
       "        vertical-align: middle;\n",
       "    }\n",
       "\n",
       "    .dataframe tbody tr th {\n",
       "        vertical-align: top;\n",
       "    }\n",
       "\n",
       "    .dataframe thead th {\n",
       "        text-align: right;\n",
       "    }\n",
       "</style>\n",
       "<table border=\"1\" class=\"dataframe\">\n",
       "  <thead>\n",
       "    <tr style=\"text-align: right;\">\n",
       "      <th></th>\n",
       "      <th>x</th>\n",
       "      <th>y</th>\n",
       "      <th>f_20_2000</th>\n",
       "      <th>f_20_2005</th>\n",
       "      <th>f_20_2010</th>\n",
       "      <th>f_20_2015</th>\n",
       "      <th>f_20_2020</th>\n",
       "    </tr>\n",
       "  </thead>\n",
       "  <tbody>\n",
       "    <tr>\n",
       "      <th>0</th>\n",
       "      <td>0.835833</td>\n",
       "      <td>10.041667</td>\n",
       "      <td>-99999.0</td>\n",
       "      <td>-99999.0</td>\n",
       "      <td>-99999.0</td>\n",
       "      <td>-99999.0</td>\n",
       "      <td>-99999.0</td>\n",
       "    </tr>\n",
       "    <tr>\n",
       "      <th>1</th>\n",
       "      <td>0.836667</td>\n",
       "      <td>10.041667</td>\n",
       "      <td>-99999.0</td>\n",
       "      <td>-99999.0</td>\n",
       "      <td>-99999.0</td>\n",
       "      <td>-99999.0</td>\n",
       "      <td>-99999.0</td>\n",
       "    </tr>\n",
       "    <tr>\n",
       "      <th>2</th>\n",
       "      <td>0.837500</td>\n",
       "      <td>10.041667</td>\n",
       "      <td>-99999.0</td>\n",
       "      <td>-99999.0</td>\n",
       "      <td>-99999.0</td>\n",
       "      <td>-99999.0</td>\n",
       "      <td>-99999.0</td>\n",
       "    </tr>\n",
       "    <tr>\n",
       "      <th>3</th>\n",
       "      <td>0.838333</td>\n",
       "      <td>10.041667</td>\n",
       "      <td>-99999.0</td>\n",
       "      <td>-99999.0</td>\n",
       "      <td>-99999.0</td>\n",
       "      <td>-99999.0</td>\n",
       "      <td>-99999.0</td>\n",
       "    </tr>\n",
       "    <tr>\n",
       "      <th>4</th>\n",
       "      <td>0.839167</td>\n",
       "      <td>10.041667</td>\n",
       "      <td>-99999.0</td>\n",
       "      <td>-99999.0</td>\n",
       "      <td>-99999.0</td>\n",
       "      <td>-99999.0</td>\n",
       "      <td>-99999.0</td>\n",
       "    </tr>\n",
       "    <tr>\n",
       "      <th>...</th>\n",
       "      <td>...</td>\n",
       "      <td>...</td>\n",
       "      <td>...</td>\n",
       "      <td>...</td>\n",
       "      <td>...</td>\n",
       "      <td>...</td>\n",
       "      <td>...</td>\n",
       "    </tr>\n",
       "    <tr>\n",
       "      <th>291221</th>\n",
       "      <td>1.330000</td>\n",
       "      <td>9.636667</td>\n",
       "      <td>-99999.0</td>\n",
       "      <td>-99999.0</td>\n",
       "      <td>-99999.0</td>\n",
       "      <td>-99999.0</td>\n",
       "      <td>-99999.0</td>\n",
       "    </tr>\n",
       "    <tr>\n",
       "      <th>291222</th>\n",
       "      <td>1.330833</td>\n",
       "      <td>9.636667</td>\n",
       "      <td>-99999.0</td>\n",
       "      <td>-99999.0</td>\n",
       "      <td>-99999.0</td>\n",
       "      <td>-99999.0</td>\n",
       "      <td>-99999.0</td>\n",
       "    </tr>\n",
       "    <tr>\n",
       "      <th>291223</th>\n",
       "      <td>1.331667</td>\n",
       "      <td>9.636667</td>\n",
       "      <td>-99999.0</td>\n",
       "      <td>-99999.0</td>\n",
       "      <td>-99999.0</td>\n",
       "      <td>-99999.0</td>\n",
       "      <td>-99999.0</td>\n",
       "    </tr>\n",
       "    <tr>\n",
       "      <th>291224</th>\n",
       "      <td>1.332500</td>\n",
       "      <td>9.636667</td>\n",
       "      <td>-99999.0</td>\n",
       "      <td>-99999.0</td>\n",
       "      <td>-99999.0</td>\n",
       "      <td>-99999.0</td>\n",
       "      <td>-99999.0</td>\n",
       "    </tr>\n",
       "    <tr>\n",
       "      <th>291225</th>\n",
       "      <td>1.333333</td>\n",
       "      <td>9.636667</td>\n",
       "      <td>-99999.0</td>\n",
       "      <td>-99999.0</td>\n",
       "      <td>-99999.0</td>\n",
       "      <td>-99999.0</td>\n",
       "      <td>-99999.0</td>\n",
       "    </tr>\n",
       "  </tbody>\n",
       "</table>\n",
       "<p>291226 rows × 7 columns</p>\n",
       "</div>"
      ],
      "text/plain": [
       "               x          y  f_20_2000  f_20_2005  f_20_2010  f_20_2015  \\\n",
       "0       0.835833  10.041667   -99999.0   -99999.0   -99999.0   -99999.0   \n",
       "1       0.836667  10.041667   -99999.0   -99999.0   -99999.0   -99999.0   \n",
       "2       0.837500  10.041667   -99999.0   -99999.0   -99999.0   -99999.0   \n",
       "3       0.838333  10.041667   -99999.0   -99999.0   -99999.0   -99999.0   \n",
       "4       0.839167  10.041667   -99999.0   -99999.0   -99999.0   -99999.0   \n",
       "...          ...        ...        ...        ...        ...        ...   \n",
       "291221  1.330000   9.636667   -99999.0   -99999.0   -99999.0   -99999.0   \n",
       "291222  1.330833   9.636667   -99999.0   -99999.0   -99999.0   -99999.0   \n",
       "291223  1.331667   9.636667   -99999.0   -99999.0   -99999.0   -99999.0   \n",
       "291224  1.332500   9.636667   -99999.0   -99999.0   -99999.0   -99999.0   \n",
       "291225  1.333333   9.636667   -99999.0   -99999.0   -99999.0   -99999.0   \n",
       "\n",
       "        f_20_2020  \n",
       "0        -99999.0  \n",
       "1        -99999.0  \n",
       "2        -99999.0  \n",
       "3        -99999.0  \n",
       "4        -99999.0  \n",
       "...           ...  \n",
       "291221   -99999.0  \n",
       "291222   -99999.0  \n",
       "291223   -99999.0  \n",
       "291224   -99999.0  \n",
       "291225   -99999.0  \n",
       "\n",
       "[291226 rows x 7 columns]"
      ]
     },
     "execution_count": 10,
     "metadata": {},
     "output_type": "execute_result"
    }
   ],
   "source": [
    "df"
   ]
  },
  {
   "cell_type": "code",
   "execution_count": 11,
   "id": "72d1e66d-515c-4c2b-98ae-8ba8e6ac8d51",
   "metadata": {
    "tags": []
   },
   "outputs": [],
   "source": [
    "filtered = df.replace(-99999, np.NaN).dropna()\n",
    "filtered = filtered.astype(\"float32\")"
   ]
  },
  {
   "cell_type": "code",
   "execution_count": 12,
   "id": "576d6fba-583a-4f28-b390-60f11aa9e993",
   "metadata": {
    "tags": []
   },
   "outputs": [],
   "source": [
    "row = filtered.iloc[1890]\n",
    "known_values = row[[f\"{pop_group}_{year}\" for year in YEARS]].values"
   ]
  },
  {
   "cell_type": "code",
   "execution_count": 13,
   "id": "971a3699-cbaf-401f-a253-b4beabde225f",
   "metadata": {
    "tags": []
   },
   "outputs": [
    {
     "data": {
      "text/plain": [
       "<matplotlib.collections.PathCollection at 0x7f2b96b5d650>"
      ]
     },
     "execution_count": 13,
     "metadata": {},
     "output_type": "execute_result"
    },
    {
     "data": {
      "image/png": "[encoded data removed]",
      "text/plain": [
       "<Figure size 640x480 with 1 Axes>"
      ]
     },
     "metadata": {},
     "output_type": "display_data"
    }
   ],
   "source": [
    "plt.scatter(x=YEARS, y=known_values)"
   ]
  },
  {
   "cell_type": "code",
   "execution_count": 14,
   "id": "8cbdfc7b-2fee-4e97-9f95-75f973c48087",
   "metadata": {
    "tags": []
   },
   "outputs": [],
   "source": [
    "x = np.array(YEARS)\n",
    "y = np.array(known_values)\n",
    "\n",
    "x = x.reshape(-1, 1)\n",
    "y = y.reshape(-1, 1)"
   ]
  },
  {
   "cell_type": "code",
   "execution_count": 15,
   "id": "603f64e3-fee0-46f2-bd99-f7bc1ddca9da",
   "metadata": {
    "tags": []
   },
   "outputs": [
    {
     "data": {
      "text/plain": [
       "(array([[2000],\n",
       "        [2005],\n",
       "        [2010],\n",
       "        [2015],\n",
       "        [2020]]),\n",
       " array([[0.01411801],\n",
       "        [0.01449343],\n",
       "        [0.0194928 ],\n",
       "        [0.01726543],\n",
       "        [0.02383335]], dtype=float32))"
      ]
     },
     "execution_count": 15,
     "metadata": {},
     "output_type": "execute_result"
    }
   ],
   "source": [
    "x, y"
   ]
  },
  {
   "cell_type": "code",
   "execution_count": 16,
   "id": "0d761378-b1d2-4f77-be79-b7cc43985762",
   "metadata": {
    "tags": []
   },
   "outputs": [
    {
     "data": {
      "text/plain": [
       "[<matplotlib.lines.Line2D at 0x7f2b96b4b6d0>]"
      ]
     },
     "execution_count": 16,
     "metadata": {},
     "output_type": "execute_result"
    },
    {
     "data": {
      "image/png": "[encoded data removed]",
      "text/plain": [
       "<Figure size 640x480 with 1 Axes>"
      ]
     },
     "metadata": {},
     "output_type": "display_data"
    }
   ],
   "source": [
    "regr = linear_model.LinearRegression().fit(x, y)\n",
    "\n",
    "time_extent = np.array([2000, 2005, 2010, 2015, 2020, 2025, 2030]).reshape(-1, 1)\n",
    "\n",
    "fig, ax = plt.subplots()\n",
    "\n",
    "row[2:].plot(ax=ax, style=\".\")\n",
    "ax.plot(regr.predict(time_extent))"
   ]
  },
  {
   "cell_type": "code",
   "execution_count": 17,
   "id": "2dce58ff-c62d-4878-9dbd-5f2952614878",
   "metadata": {
    "tags": []
   },
   "outputs": [
    {
     "data": {
      "text/plain": [
       "array([[0.02272519],\n",
       "       [0.02316924],\n",
       "       [0.0236133 ],\n",
       "       [0.02405735],\n",
       "       [0.0245014 ],\n",
       "       [0.02494546],\n",
       "       [0.02538951],\n",
       "       [0.02583357],\n",
       "       [0.02627762],\n",
       "       [0.02672167]])"
      ]
     },
     "execution_count": 17,
     "metadata": {},
     "output_type": "execute_result"
    }
   ],
   "source": [
    "future = np.array(PREDICTION_YEARS).reshape(-1, 1)\n",
    "\n",
    "prediction_values = regr.predict(future)\n",
    "prediction_values"
   ]
  },
  {
   "cell_type": "code",
   "execution_count": 18,
   "id": "c90057a9-7955-4194-8351-fec66be5b1a8",
   "metadata": {
    "tags": []
   },
   "outputs": [
    {
     "data": {
      "text/plain": [
       "<Axes: >"
      ]
     },
     "execution_count": 18,
     "metadata": {},
     "output_type": "execute_result"
    },
    {
     "data": {
      "image/png": "[encoded data removed]",
      "text/plain": [
       "<Figure size 640x480 with 1 Axes>"
      ]
     },
     "metadata": {},
     "output_type": "display_data"
    }
   ],
   "source": [
    "prediction_columns = [f\"{pop_group}_{year}\" for year in PREDICTION_YEARS]\n",
    "example_row = row.reindex([*df.columns, *prediction_columns])\n",
    "prediction_values = prediction_values.flatten()\n",
    "example_row[prediction_columns] = pd.Series(list(prediction_values))\n",
    "\n",
    "example_row[[\n",
    "    'f_20_2000',\n",
    "    'f_20_2005',\n",
    "    'f_20_2010',\n",
    "    'f_20_2015',\n",
    "    'f_20_2020',\n",
    "    'f_20_2025',\n",
    "    'f_20_2030',\n",
    "]].plot()"
   ]
  },
  {
   "cell_type": "code",
   "execution_count": 19,
   "id": "ed91661e-2302-4dcf-b2b7-5e034b430859",
   "metadata": {
    "tags": []
   },
   "outputs": [],
   "source": [
    "from scripts.data_analysis.predict_population import predict_population"
   ]
  },
  {
   "cell_type": "code",
   "execution_count": 20,
   "id": "bac4ecfe-d52a-4992-aaed-a979cfa34d21",
   "metadata": {
    "tags": []
   },
   "outputs": [],
   "source": [
    "def predict_population(row, known_years, prediction_years, pop_group, model):\n",
    "    known_values = row.values\n",
    "\n",
    "    x = np.array(known_years)\n",
    "    y = np.array(known_values)\n",
    "    x = x.reshape(-1, 1)\n",
    "    y = y.reshape(-1, 1)\n",
    "\n",
    "    regr = model.fit(x, y)\n",
    "\n",
    "    prediction_years_array = np.array(prediction_years).reshape(-1, 1)\n",
    "    prediction_values = regr.predict(prediction_years_array)\n",
    "\n",
    "    return prediction_values.flatten()"
   ]
  },
  {
   "cell_type": "code",
   "execution_count": 21,
   "id": "7a3e9de4-5c01-4709-8fbc-4757cd8ece38",
   "metadata": {
    "tags": []
   },
   "outputs": [],
   "source": [
    "cols = ['f_20_2000', 'f_20_2005', 'f_20_2010', 'f_20_2015', 'f_20_2020']"
   ]
  },
  {
   "cell_type": "code",
   "execution_count": 22,
   "id": "c8a3ba03-c689-4cc1-8b92-e7859cd70394",
   "metadata": {},
   "outputs": [
    {
     "name": "stdout",
     "output_type": "stream",
     "text": [
      "INFO: Pandarallel will run on 8 workers.\n",
      "INFO: Pandarallel will use Memory file system to transfer data between the main process and workers.\n"
     ]
    }
   ],
   "source": [
    "from pandarallel import pandarallel\n",
    "\n",
    "pandarallel.initialize()"
   ]
  },
  {
   "cell_type": "code",
   "execution_count": 23,
   "id": "5792a73c-75c6-49f2-ac37-482ffd3c97aa",
   "metadata": {},
   "outputs": [],
   "source": [
    "model = linear_model.LinearRegression()\n",
    "\n",
    "predicted = filtered[cols].parallel_apply(lambda row: predict_population(\n",
    "    row, YEARS, PREDICTION_YEARS, pop_group, model\n",
    "), axis=\"columns\", result_type=\"expand\")"
   ]
  },
  {
   "cell_type": "code",
   "execution_count": 24,
   "id": "7cb618de-8ad4-40d8-89d7-607317050206",
   "metadata": {
    "tags": []
   },
   "outputs": [],
   "source": [
    "predicted.columns = prediction_columns"
   ]
  },
  {
   "cell_type": "code",
   "execution_count": 25,
   "id": "c090b5f3-948e-433d-b70e-12f85e22b8b3",
   "metadata": {},
   "outputs": [
    {
     "data": {
      "text/html": [
       "<div>\n",
       "<style scoped>\n",
       "    .dataframe tbody tr th:only-of-type {\n",
       "        vertical-align: middle;\n",
       "    }\n",
       "\n",
       "    .dataframe tbody tr th {\n",
       "        vertical-align: top;\n",
       "    }\n",
       "\n",
       "    .dataframe thead th {\n",
       "        text-align: right;\n",
       "    }\n",
       "</style>\n",
       "<table border=\"1\" class=\"dataframe\">\n",
       "  <thead>\n",
       "    <tr style=\"text-align: right;\">\n",
       "      <th></th>\n",
       "      <th>f_20_2021</th>\n",
       "      <th>f_20_2022</th>\n",
       "      <th>f_20_2023</th>\n",
       "      <th>f_20_2024</th>\n",
       "      <th>f_20_2025</th>\n",
       "      <th>f_20_2026</th>\n",
       "      <th>f_20_2027</th>\n",
       "      <th>f_20_2028</th>\n",
       "      <th>f_20_2029</th>\n",
       "      <th>f_20_2030</th>\n",
       "    </tr>\n",
       "  </thead>\n",
       "  <tbody>\n",
       "    <tr>\n",
       "      <th>460</th>\n",
       "      <td>0.015568</td>\n",
       "      <td>0.015713</td>\n",
       "      <td>0.015858</td>\n",
       "      <td>0.016003</td>\n",
       "      <td>0.016148</td>\n",
       "      <td>0.016293</td>\n",
       "      <td>0.016438</td>\n",
       "      <td>0.016583</td>\n",
       "      <td>0.016728</td>\n",
       "      <td>0.016873</td>\n",
       "    </tr>\n",
       "    <tr>\n",
       "      <th>461</th>\n",
       "      <td>0.015464</td>\n",
       "      <td>0.015591</td>\n",
       "      <td>0.015719</td>\n",
       "      <td>0.015847</td>\n",
       "      <td>0.015974</td>\n",
       "      <td>0.016102</td>\n",
       "      <td>0.016230</td>\n",
       "      <td>0.016358</td>\n",
       "      <td>0.016485</td>\n",
       "      <td>0.016613</td>\n",
       "    </tr>\n",
       "    <tr>\n",
       "      <th>462</th>\n",
       "      <td>0.015614</td>\n",
       "      <td>0.015737</td>\n",
       "      <td>0.015860</td>\n",
       "      <td>0.015983</td>\n",
       "      <td>0.016106</td>\n",
       "      <td>0.016229</td>\n",
       "      <td>0.016352</td>\n",
       "      <td>0.016475</td>\n",
       "      <td>0.016598</td>\n",
       "      <td>0.016721</td>\n",
       "    </tr>\n",
       "    <tr>\n",
       "      <th>463</th>\n",
       "      <td>0.015497</td>\n",
       "      <td>0.015617</td>\n",
       "      <td>0.015738</td>\n",
       "      <td>0.015858</td>\n",
       "      <td>0.015979</td>\n",
       "      <td>0.016100</td>\n",
       "      <td>0.016220</td>\n",
       "      <td>0.016341</td>\n",
       "      <td>0.016461</td>\n",
       "      <td>0.016582</td>\n",
       "    </tr>\n",
       "    <tr>\n",
       "      <th>464</th>\n",
       "      <td>0.015488</td>\n",
       "      <td>0.015595</td>\n",
       "      <td>0.015702</td>\n",
       "      <td>0.015809</td>\n",
       "      <td>0.015916</td>\n",
       "      <td>0.016023</td>\n",
       "      <td>0.016130</td>\n",
       "      <td>0.016237</td>\n",
       "      <td>0.016344</td>\n",
       "      <td>0.016451</td>\n",
       "    </tr>\n",
       "  </tbody>\n",
       "</table>\n",
       "</div>"
      ],
      "text/plain": [
       "     f_20_2021  f_20_2022  f_20_2023  f_20_2024  f_20_2025  f_20_2026  \\\n",
       "460   0.015568   0.015713   0.015858   0.016003   0.016148   0.016293   \n",
       "461   0.015464   0.015591   0.015719   0.015847   0.015974   0.016102   \n",
       "462   0.015614   0.015737   0.015860   0.015983   0.016106   0.016229   \n",
       "463   0.015497   0.015617   0.015738   0.015858   0.015979   0.016100   \n",
       "464   0.015488   0.015595   0.015702   0.015809   0.015916   0.016023   \n",
       "\n",
       "     f_20_2027  f_20_2028  f_20_2029  f_20_2030  \n",
       "460   0.016438   0.016583   0.016728   0.016873  \n",
       "461   0.016230   0.016358   0.016485   0.016613  \n",
       "462   0.016352   0.016475   0.016598   0.016721  \n",
       "463   0.016220   0.016341   0.016461   0.016582  \n",
       "464   0.016130   0.016237   0.016344   0.016451  "
      ]
     },
     "execution_count": 25,
     "metadata": {},
     "output_type": "execute_result"
    }
   ],
   "source": [
    "predicted.head()"
   ]
  },
  {
   "cell_type": "code",
   "execution_count": 26,
   "id": "2c95ffad-0686-46eb-a4f5-0ff62d6c82b8",
   "metadata": {},
   "outputs": [],
   "source": [
    "predicted_with_coords = pd.concat([predicted, filtered[[\"x\", \"y\"]]], axis=1)\n",
    "geo = gpd.GeoDataFrame(\n",
    "    predicted_with_coords,\n",
    "    geometry=gpd.points_from_xy(predicted_with_coords[\"x\"], predicted_with_coords[\"y\"]),\n",
    "    crs=\"epsg:4326\"\n",
    ")"
   ]
  },
  {
   "cell_type": "code",
   "execution_count": 27,
   "id": "8ccbfa71-38f8-4098-b08c-156be1a2d1cd",
   "metadata": {
    "tags": []
   },
   "outputs": [
    {
     "data": {
      "text/html": [
       "<div>\n",
       "<style scoped>\n",
       "    .dataframe tbody tr th:only-of-type {\n",
       "        vertical-align: middle;\n",
       "    }\n",
       "\n",
       "    .dataframe tbody tr th {\n",
       "        vertical-align: top;\n",
       "    }\n",
       "\n",
       "    .dataframe thead th {\n",
       "        text-align: right;\n",
       "    }\n",
       "</style>\n",
       "<table border=\"1\" class=\"dataframe\">\n",
       "  <thead>\n",
       "    <tr style=\"text-align: right;\">\n",
       "      <th></th>\n",
       "      <th>f_20_2021</th>\n",
       "      <th>f_20_2022</th>\n",
       "      <th>f_20_2023</th>\n",
       "      <th>f_20_2024</th>\n",
       "      <th>f_20_2025</th>\n",
       "      <th>f_20_2026</th>\n",
       "      <th>f_20_2027</th>\n",
       "      <th>f_20_2028</th>\n",
       "      <th>f_20_2029</th>\n",
       "      <th>f_20_2030</th>\n",
       "      <th>x</th>\n",
       "      <th>y</th>\n",
       "      <th>geometry</th>\n",
       "    </tr>\n",
       "  </thead>\n",
       "  <tbody>\n",
       "    <tr>\n",
       "      <th>460</th>\n",
       "      <td>0.015568</td>\n",
       "      <td>0.015713</td>\n",
       "      <td>0.015858</td>\n",
       "      <td>0.016003</td>\n",
       "      <td>0.016148</td>\n",
       "      <td>0.016293</td>\n",
       "      <td>0.016438</td>\n",
       "      <td>0.016583</td>\n",
       "      <td>0.016728</td>\n",
       "      <td>0.016873</td>\n",
       "      <td>1.219167</td>\n",
       "      <td>10.041667</td>\n",
       "      <td>POINT (1.21917 10.04167)</td>\n",
       "    </tr>\n",
       "    <tr>\n",
       "      <th>461</th>\n",
       "      <td>0.015464</td>\n",
       "      <td>0.015591</td>\n",
       "      <td>0.015719</td>\n",
       "      <td>0.015847</td>\n",
       "      <td>0.015974</td>\n",
       "      <td>0.016102</td>\n",
       "      <td>0.016230</td>\n",
       "      <td>0.016358</td>\n",
       "      <td>0.016485</td>\n",
       "      <td>0.016613</td>\n",
       "      <td>1.220000</td>\n",
       "      <td>10.041667</td>\n",
       "      <td>POINT (1.22000 10.04167)</td>\n",
       "    </tr>\n",
       "    <tr>\n",
       "      <th>462</th>\n",
       "      <td>0.015614</td>\n",
       "      <td>0.015737</td>\n",
       "      <td>0.015860</td>\n",
       "      <td>0.015983</td>\n",
       "      <td>0.016106</td>\n",
       "      <td>0.016229</td>\n",
       "      <td>0.016352</td>\n",
       "      <td>0.016475</td>\n",
       "      <td>0.016598</td>\n",
       "      <td>0.016721</td>\n",
       "      <td>1.220833</td>\n",
       "      <td>10.041667</td>\n",
       "      <td>POINT (1.22083 10.04167)</td>\n",
       "    </tr>\n",
       "    <tr>\n",
       "      <th>463</th>\n",
       "      <td>0.015497</td>\n",
       "      <td>0.015617</td>\n",
       "      <td>0.015738</td>\n",
       "      <td>0.015858</td>\n",
       "      <td>0.015979</td>\n",
       "      <td>0.016100</td>\n",
       "      <td>0.016220</td>\n",
       "      <td>0.016341</td>\n",
       "      <td>0.016461</td>\n",
       "      <td>0.016582</td>\n",
       "      <td>1.221667</td>\n",
       "      <td>10.041667</td>\n",
       "      <td>POINT (1.22167 10.04167)</td>\n",
       "    </tr>\n",
       "    <tr>\n",
       "      <th>464</th>\n",
       "      <td>0.015488</td>\n",
       "      <td>0.015595</td>\n",
       "      <td>0.015702</td>\n",
       "      <td>0.015809</td>\n",
       "      <td>0.015916</td>\n",
       "      <td>0.016023</td>\n",
       "      <td>0.016130</td>\n",
       "      <td>0.016237</td>\n",
       "      <td>0.016344</td>\n",
       "      <td>0.016451</td>\n",
       "      <td>1.222500</td>\n",
       "      <td>10.041667</td>\n",
       "      <td>POINT (1.22250 10.04167)</td>\n",
       "    </tr>\n",
       "  </tbody>\n",
       "</table>\n",
       "</div>"
      ],
      "text/plain": [
       "     f_20_2021  f_20_2022  f_20_2023  f_20_2024  f_20_2025  f_20_2026  \\\n",
       "460   0.015568   0.015713   0.015858   0.016003   0.016148   0.016293   \n",
       "461   0.015464   0.015591   0.015719   0.015847   0.015974   0.016102   \n",
       "462   0.015614   0.015737   0.015860   0.015983   0.016106   0.016229   \n",
       "463   0.015497   0.015617   0.015738   0.015858   0.015979   0.016100   \n",
       "464   0.015488   0.015595   0.015702   0.015809   0.015916   0.016023   \n",
       "\n",
       "     f_20_2027  f_20_2028  f_20_2029  f_20_2030         x          y  \\\n",
       "460   0.016438   0.016583   0.016728   0.016873  1.219167  10.041667   \n",
       "461   0.016230   0.016358   0.016485   0.016613  1.220000  10.041667   \n",
       "462   0.016352   0.016475   0.016598   0.016721  1.220833  10.041667   \n",
       "463   0.016220   0.016341   0.016461   0.016582  1.221667  10.041667   \n",
       "464   0.016130   0.016237   0.016344   0.016451  1.222500  10.041667   \n",
       "\n",
       "                     geometry  \n",
       "460  POINT (1.21917 10.04167)  \n",
       "461  POINT (1.22000 10.04167)  \n",
       "462  POINT (1.22083 10.04167)  \n",
       "463  POINT (1.22167 10.04167)  \n",
       "464  POINT (1.22250 10.04167)  "
      ]
     },
     "execution_count": 27,
     "metadata": {},
     "output_type": "execute_result"
    }
   ],
   "source": [
    "geo.head()"
   ]
  },
  {
   "cell_type": "code",
   "execution_count": 28,
   "id": "ea041d76-3178-4c93-8383-b2048b205de6",
   "metadata": {
    "tags": []
   },
   "outputs": [
    {
     "data": {
      "text/plain": [
       "(-0.00083333335, 0.00083333335)"
      ]
     },
     "execution_count": 28,
     "metadata": {},
     "output_type": "execute_result"
    }
   ],
   "source": [
    "resolution = np.float32(meta[\"transform\"][4]), np.float32(meta[\"transform\"][0])\n",
    "resolution"
   ]
  },
  {
   "cell_type": "code",
   "execution_count": 29,
   "id": "74594162-eb53-4a71-b7bc-aea20b5dff72",
   "metadata": {},
   "outputs": [],
   "source": [
    "from geocube.api.core import make_geocube\n",
    "\n",
    "out_grid = make_geocube(\n",
    "    vector_data=geo,\n",
    "    measurements=[\"f_20_2030\"],\n",
    "    resolution=resolution\n",
    ")\n",
    "out_grid[\"f_20_2030\"].rio.to_raster(\"sklearn_predict_2030.tif\")"
   ]
  },
  {
   "cell_type": "code",
   "execution_count": null,
   "id": "dc5b9c1d-e13d-4816-9a49-29fe78235088",
   "metadata": {},
   "outputs": [],
   "source": []
  }
 ],
 "metadata": {
  "kernelspec": {
   "display_name": "Python 3 (ipykernel)",
   "language": "python",
   "name": "python3"
  },
  "language_info": {
   "codemirror_mode": {
    "name": "ipython",
    "version": 3
   },
   "file_extension": ".py",
   "mimetype": "text/x-python",
   "name": "python",
   "nbconvert_exporter": "python",
   "pygments_lexer": "ipython3",
   "version": "3.11.3"
  }
 },
 "nbformat": 4,
 "nbformat_minor": 5
}
